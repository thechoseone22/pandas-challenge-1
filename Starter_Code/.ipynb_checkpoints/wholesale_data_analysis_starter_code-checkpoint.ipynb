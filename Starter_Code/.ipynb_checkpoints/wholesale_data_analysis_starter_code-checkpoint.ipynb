{
 "cells": [
  {
   "cell_type": "markdown",
   "id": "dc0318d6",
   "metadata": {
    "panel-layout": {
     "height": 84.4,
     "visible": true,
     "width": 100
    }
   },
   "source": [
    "## Part 1: Explore the Data\n",
    "\n",
    "Import the data and use Pandas to learn more about the dataset."
   ]
  },
  {
   "cell_type": "code",
   "execution_count": 1,
   "id": "e076f57f",
   "metadata": {
    "panel-layout": {
     "height": 164.4,
     "visible": true,
     "width": 100
    }
   },
   "outputs": [
    {
     "data": {
      "text/html": [
       "<div>\n",
       "<style scoped>\n",
       "    .dataframe tbody tr th:only-of-type {\n",
       "        vertical-align: middle;\n",
       "    }\n",
       "\n",
       "    .dataframe tbody tr th {\n",
       "        vertical-align: top;\n",
       "    }\n",
       "\n",
       "    .dataframe thead th {\n",
       "        text-align: right;\n",
       "    }\n",
       "</style>\n",
       "<table border=\"1\" class=\"dataframe\">\n",
       "  <thead>\n",
       "    <tr style=\"text-align: right;\">\n",
       "      <th></th>\n",
       "      <th>first</th>\n",
       "      <th>last</th>\n",
       "      <th>job</th>\n",
       "      <th>phone</th>\n",
       "      <th>email</th>\n",
       "      <th>client_id</th>\n",
       "      <th>order_id</th>\n",
       "      <th>order_date</th>\n",
       "      <th>order_week</th>\n",
       "      <th>order_year</th>\n",
       "      <th>item_id</th>\n",
       "      <th>category</th>\n",
       "      <th>subcategory</th>\n",
       "      <th>unit_price</th>\n",
       "      <th>unit_cost</th>\n",
       "      <th>unit_weight</th>\n",
       "      <th>qty</th>\n",
       "      <th>line_number</th>\n",
       "    </tr>\n",
       "  </thead>\n",
       "  <tbody>\n",
       "    <tr>\n",
       "      <th>0</th>\n",
       "      <td>Donald</td>\n",
       "      <td>Harding</td>\n",
       "      <td>Immunologist</td>\n",
       "      <td>793-904-7725x39308</td>\n",
       "      <td>harding.donald.7185@sullivan.com</td>\n",
       "      <td>58515</td>\n",
       "      <td>8953482</td>\n",
       "      <td>2023-04-28</td>\n",
       "      <td>17</td>\n",
       "      <td>2023</td>\n",
       "      <td>EUD29711-63-6U</td>\n",
       "      <td>decor</td>\n",
       "      <td>wall art</td>\n",
       "      <td>1096.80</td>\n",
       "      <td>762.71</td>\n",
       "      <td>7.50</td>\n",
       "      <td>105</td>\n",
       "      <td>1</td>\n",
       "    </tr>\n",
       "    <tr>\n",
       "      <th>1</th>\n",
       "      <td>Tiffany</td>\n",
       "      <td>Myers</td>\n",
       "      <td>Music therapist</td>\n",
       "      <td>201.442.4543x942</td>\n",
       "      <td>myers.t.6537@ferguson-johnson.net</td>\n",
       "      <td>37609</td>\n",
       "      <td>8069089</td>\n",
       "      <td>2023-05-19</td>\n",
       "      <td>20</td>\n",
       "      <td>2023</td>\n",
       "      <td>XDA18116-89-4A</td>\n",
       "      <td>consumables</td>\n",
       "      <td>pens</td>\n",
       "      <td>24.95</td>\n",
       "      <td>15.09</td>\n",
       "      <td>1.49</td>\n",
       "      <td>21</td>\n",
       "      <td>0</td>\n",
       "    </tr>\n",
       "    <tr>\n",
       "      <th>2</th>\n",
       "      <td>Shannon</td>\n",
       "      <td>Watson</td>\n",
       "      <td>Immunologist</td>\n",
       "      <td>687.737.9424x8503</td>\n",
       "      <td>swatson8146@payne.net</td>\n",
       "      <td>57113</td>\n",
       "      <td>1902144</td>\n",
       "      <td>2023-01-29</td>\n",
       "      <td>4</td>\n",
       "      <td>2023</td>\n",
       "      <td>ABE59463-05-7E</td>\n",
       "      <td>software</td>\n",
       "      <td>project management</td>\n",
       "      <td>13.52</td>\n",
       "      <td>7.86</td>\n",
       "      <td>1.68</td>\n",
       "      <td>39</td>\n",
       "      <td>6</td>\n",
       "    </tr>\n",
       "    <tr>\n",
       "      <th>3</th>\n",
       "      <td>Nathan</td>\n",
       "      <td>Baker</td>\n",
       "      <td>Accounting technician</td>\n",
       "      <td>827-788-8123x012</td>\n",
       "      <td>bakernathan@benson.com</td>\n",
       "      <td>46554</td>\n",
       "      <td>9031802</td>\n",
       "      <td>2023-04-25</td>\n",
       "      <td>17</td>\n",
       "      <td>2023</td>\n",
       "      <td>ZMM00836-65-0C</td>\n",
       "      <td>consumables</td>\n",
       "      <td>pens</td>\n",
       "      <td>36.42</td>\n",
       "      <td>24.85</td>\n",
       "      <td>1.23</td>\n",
       "      <td>29</td>\n",
       "      <td>3</td>\n",
       "    </tr>\n",
       "    <tr>\n",
       "      <th>4</th>\n",
       "      <td>Christina</td>\n",
       "      <td>Schwartz</td>\n",
       "      <td>Chiropractor</td>\n",
       "      <td>265-829-3643</td>\n",
       "      <td>christinaschwartz9252@mcconnell.com</td>\n",
       "      <td>92089</td>\n",
       "      <td>1322274</td>\n",
       "      <td>2023-05-28</td>\n",
       "      <td>21</td>\n",
       "      <td>2023</td>\n",
       "      <td>BZX55559-12-3X</td>\n",
       "      <td>consumables</td>\n",
       "      <td>misc</td>\n",
       "      <td>195.10</td>\n",
       "      <td>108.17</td>\n",
       "      <td>46.43</td>\n",
       "      <td>20</td>\n",
       "      <td>1</td>\n",
       "    </tr>\n",
       "  </tbody>\n",
       "</table>\n",
       "</div>"
      ],
      "text/plain": [
       "       first      last                    job               phone  \\\n",
       "0     Donald   Harding           Immunologist  793-904-7725x39308   \n",
       "1    Tiffany     Myers        Music therapist    201.442.4543x942   \n",
       "2    Shannon    Watson           Immunologist   687.737.9424x8503   \n",
       "3     Nathan     Baker  Accounting technician    827-788-8123x012   \n",
       "4  Christina  Schwartz           Chiropractor        265-829-3643   \n",
       "\n",
       "                                 email  client_id  order_id  order_date  \\\n",
       "0     harding.donald.7185@sullivan.com      58515   8953482  2023-04-28   \n",
       "1    myers.t.6537@ferguson-johnson.net      37609   8069089  2023-05-19   \n",
       "2                swatson8146@payne.net      57113   1902144  2023-01-29   \n",
       "3               bakernathan@benson.com      46554   9031802  2023-04-25   \n",
       "4  christinaschwartz9252@mcconnell.com      92089   1322274  2023-05-28   \n",
       "\n",
       "   order_week  order_year         item_id     category         subcategory  \\\n",
       "0          17        2023  EUD29711-63-6U        decor            wall art   \n",
       "1          20        2023  XDA18116-89-4A  consumables                pens   \n",
       "2           4        2023  ABE59463-05-7E     software  project management   \n",
       "3          17        2023  ZMM00836-65-0C  consumables                pens   \n",
       "4          21        2023  BZX55559-12-3X  consumables                misc   \n",
       "\n",
       "   unit_price  unit_cost  unit_weight  qty  line_number  \n",
       "0     1096.80     762.71         7.50  105            1  \n",
       "1       24.95      15.09         1.49   21            0  \n",
       "2       13.52       7.86         1.68   39            6  \n",
       "3       36.42      24.85         1.23   29            3  \n",
       "4      195.10     108.17        46.43   20            1  "
      ]
     },
     "execution_count": 1,
     "metadata": {},
     "output_type": "execute_result"
    }
   ],
   "source": [
    "import pandas as pd\n",
    "\n",
    "df = pd.read_csv('Resources/client_dataset.csv')\n",
    "df.head()"
   ]
  },
  {
   "cell_type": "code",
   "execution_count": 2,
   "id": "578f0f9b-40b0-423e-b755-0093c25e0801",
   "metadata": {
    "panel-layout": {
     "height": 95.6875,
     "visible": true,
     "width": 100
    }
   },
   "outputs": [
    {
     "data": {
      "text/plain": [
       "Index(['first', 'last', 'job', 'phone', 'email', 'client_id', 'order_id',\n",
       "       'order_date', 'order_week', 'order_year', 'item_id', 'category',\n",
       "       'subcategory', 'unit_price', 'unit_cost', 'unit_weight', 'qty',\n",
       "       'line_number'],\n",
       "      dtype='object')"
      ]
     },
     "execution_count": 2,
     "metadata": {},
     "output_type": "execute_result"
    }
   ],
   "source": [
    "df.columns"
   ]
  },
  {
   "cell_type": "code",
   "execution_count": 3,
   "id": "71b9bbd2",
   "metadata": {},
   "outputs": [],
   "source": [
    "# View the column names in the data\n"
   ]
  },
  {
   "cell_type": "code",
   "execution_count": 4,
   "id": "3ec6d54d-6f97-447f-b4d1-4147de013efb",
   "metadata": {
    "panel-layout": {
     "height": 241.2,
     "visible": true,
     "width": 100
    }
   },
   "outputs": [
    {
     "data": {
      "text/html": [
       "<div>\n",
       "<style scoped>\n",
       "    .dataframe tbody tr th:only-of-type {\n",
       "        vertical-align: middle;\n",
       "    }\n",
       "\n",
       "    .dataframe tbody tr th {\n",
       "        vertical-align: top;\n",
       "    }\n",
       "\n",
       "    .dataframe thead th {\n",
       "        text-align: right;\n",
       "    }\n",
       "</style>\n",
       "<table border=\"1\" class=\"dataframe\">\n",
       "  <thead>\n",
       "    <tr style=\"text-align: right;\">\n",
       "      <th></th>\n",
       "      <th>client_id</th>\n",
       "      <th>order_id</th>\n",
       "      <th>order_week</th>\n",
       "      <th>order_year</th>\n",
       "      <th>unit_price</th>\n",
       "      <th>unit_cost</th>\n",
       "      <th>unit_weight</th>\n",
       "      <th>qty</th>\n",
       "      <th>line_number</th>\n",
       "    </tr>\n",
       "  </thead>\n",
       "  <tbody>\n",
       "    <tr>\n",
       "      <th>count</th>\n",
       "      <td>54639.000000</td>\n",
       "      <td>5.463900e+04</td>\n",
       "      <td>54639.000000</td>\n",
       "      <td>54639.000000</td>\n",
       "      <td>54639.000000</td>\n",
       "      <td>54639.000000</td>\n",
       "      <td>54639.000000</td>\n",
       "      <td>5.463900e+04</td>\n",
       "      <td>54639.000000</td>\n",
       "    </tr>\n",
       "    <tr>\n",
       "      <th>mean</th>\n",
       "      <td>54837.869416</td>\n",
       "      <td>5.470190e+06</td>\n",
       "      <td>11.359139</td>\n",
       "      <td>2022.993064</td>\n",
       "      <td>136.267207</td>\n",
       "      <td>99.446073</td>\n",
       "      <td>5.004116</td>\n",
       "      <td>5.702646e+02</td>\n",
       "      <td>2.979667</td>\n",
       "    </tr>\n",
       "    <tr>\n",
       "      <th>std</th>\n",
       "      <td>25487.438231</td>\n",
       "      <td>2.599807e+06</td>\n",
       "      <td>7.023499</td>\n",
       "      <td>0.082997</td>\n",
       "      <td>183.873135</td>\n",
       "      <td>133.164267</td>\n",
       "      <td>5.326599</td>\n",
       "      <td>1.879552e+04</td>\n",
       "      <td>2.436320</td>\n",
       "    </tr>\n",
       "    <tr>\n",
       "      <th>min</th>\n",
       "      <td>10033.000000</td>\n",
       "      <td>1.000886e+06</td>\n",
       "      <td>1.000000</td>\n",
       "      <td>2022.000000</td>\n",
       "      <td>0.010000</td>\n",
       "      <td>0.010000</td>\n",
       "      <td>0.000000</td>\n",
       "      <td>0.000000e+00</td>\n",
       "      <td>0.000000</td>\n",
       "    </tr>\n",
       "    <tr>\n",
       "      <th>25%</th>\n",
       "      <td>33593.000000</td>\n",
       "      <td>3.196372e+06</td>\n",
       "      <td>6.000000</td>\n",
       "      <td>2023.000000</td>\n",
       "      <td>20.800000</td>\n",
       "      <td>14.840000</td>\n",
       "      <td>1.450000</td>\n",
       "      <td>3.200000e+01</td>\n",
       "      <td>1.000000</td>\n",
       "    </tr>\n",
       "    <tr>\n",
       "      <th>50%</th>\n",
       "      <td>53305.000000</td>\n",
       "      <td>5.496966e+06</td>\n",
       "      <td>11.000000</td>\n",
       "      <td>2023.000000</td>\n",
       "      <td>68.310000</td>\n",
       "      <td>49.890000</td>\n",
       "      <td>3.240000</td>\n",
       "      <td>6.800000e+01</td>\n",
       "      <td>3.000000</td>\n",
       "    </tr>\n",
       "    <tr>\n",
       "      <th>75%</th>\n",
       "      <td>78498.000000</td>\n",
       "      <td>7.733869e+06</td>\n",
       "      <td>17.000000</td>\n",
       "      <td>2023.000000</td>\n",
       "      <td>173.160000</td>\n",
       "      <td>125.570000</td>\n",
       "      <td>6.890000</td>\n",
       "      <td>1.700000e+02</td>\n",
       "      <td>5.000000</td>\n",
       "    </tr>\n",
       "    <tr>\n",
       "      <th>max</th>\n",
       "      <td>99984.000000</td>\n",
       "      <td>9.998480e+06</td>\n",
       "      <td>52.000000</td>\n",
       "      <td>2023.000000</td>\n",
       "      <td>1396.230000</td>\n",
       "      <td>846.270000</td>\n",
       "      <td>46.430000</td>\n",
       "      <td>3.958244e+06</td>\n",
       "      <td>9.000000</td>\n",
       "    </tr>\n",
       "  </tbody>\n",
       "</table>\n",
       "</div>"
      ],
      "text/plain": [
       "          client_id      order_id    order_week    order_year    unit_price  \\\n",
       "count  54639.000000  5.463900e+04  54639.000000  54639.000000  54639.000000   \n",
       "mean   54837.869416  5.470190e+06     11.359139   2022.993064    136.267207   \n",
       "std    25487.438231  2.599807e+06      7.023499      0.082997    183.873135   \n",
       "min    10033.000000  1.000886e+06      1.000000   2022.000000      0.010000   \n",
       "25%    33593.000000  3.196372e+06      6.000000   2023.000000     20.800000   \n",
       "50%    53305.000000  5.496966e+06     11.000000   2023.000000     68.310000   \n",
       "75%    78498.000000  7.733869e+06     17.000000   2023.000000    173.160000   \n",
       "max    99984.000000  9.998480e+06     52.000000   2023.000000   1396.230000   \n",
       "\n",
       "          unit_cost   unit_weight           qty   line_number  \n",
       "count  54639.000000  54639.000000  5.463900e+04  54639.000000  \n",
       "mean      99.446073      5.004116  5.702646e+02      2.979667  \n",
       "std      133.164267      5.326599  1.879552e+04      2.436320  \n",
       "min        0.010000      0.000000  0.000000e+00      0.000000  \n",
       "25%       14.840000      1.450000  3.200000e+01      1.000000  \n",
       "50%       49.890000      3.240000  6.800000e+01      3.000000  \n",
       "75%      125.570000      6.890000  1.700000e+02      5.000000  \n",
       "max      846.270000     46.430000  3.958244e+06      9.000000  "
      ]
     },
     "execution_count": 4,
     "metadata": {},
     "output_type": "execute_result"
    }
   ],
   "source": [
    "df.describe()"
   ]
  },
  {
   "cell_type": "code",
   "execution_count": 5,
   "id": "bc0f4172",
   "metadata": {},
   "outputs": [],
   "source": [
    "# Use the describe function to gather some basic statistics\n"
   ]
  },
  {
   "cell_type": "code",
   "execution_count": 6,
   "id": "68cabac7-a0be-48cf-84d4-e7fe37cf2381",
   "metadata": {
    "panel-layout": {
     "height": 0,
     "visible": true,
     "width": 100
    }
   },
   "outputs": [
    {
     "name": "stdout",
     "output_type": "stream",
     "text": [
      "<class 'pandas.core.frame.DataFrame'>\n",
      "RangeIndex: 54639 entries, 0 to 54638\n",
      "Data columns (total 18 columns):\n",
      " #   Column       Non-Null Count  Dtype  \n",
      "---  ------       --------------  -----  \n",
      " 0   first        54639 non-null  object \n",
      " 1   last         54639 non-null  object \n",
      " 2   job          54639 non-null  object \n",
      " 3   phone        54639 non-null  object \n",
      " 4   email        54639 non-null  object \n",
      " 5   client_id    54639 non-null  int64  \n",
      " 6   order_id     54639 non-null  int64  \n",
      " 7   order_date   54639 non-null  object \n",
      " 8   order_week   54639 non-null  int64  \n",
      " 9   order_year   54639 non-null  int64  \n",
      " 10  item_id      54639 non-null  object \n",
      " 11  category     54639 non-null  object \n",
      " 12  subcategory  54639 non-null  object \n",
      " 13  unit_price   54639 non-null  float64\n",
      " 14  unit_cost    54639 non-null  float64\n",
      " 15  unit_weight  54639 non-null  float64\n",
      " 16  qty          54639 non-null  int64  \n",
      " 17  line_number  54639 non-null  int64  \n",
      "dtypes: float64(3), int64(6), object(9)\n",
      "memory usage: 7.5+ MB\n"
     ]
    }
   ],
   "source": [
    "df.info()"
   ]
  },
  {
   "cell_type": "code",
   "execution_count": 7,
   "id": "b24b53cc",
   "metadata": {},
   "outputs": [],
   "source": [
    "# Use this space to do any additional research\n",
    "# and familiarize yourself with the data.\n"
   ]
  },
  {
   "cell_type": "code",
   "execution_count": 8,
   "id": "c3949a05-cdfe-4f59-8f48-c5b695e63e60",
   "metadata": {
    "panel-layout": {
     "height": 190,
     "visible": true,
     "width": 100
    }
   },
   "outputs": [
    {
     "data": {
      "text/plain": [
       "category\n",
       "consumables    23538\n",
       "furniture      11915\n",
       "software        8400\n",
       "decor           7954\n",
       "electronics     2832\n",
       "Name: count, dtype: int64"
      ]
     },
     "execution_count": 8,
     "metadata": {},
     "output_type": "execute_result"
    }
   ],
   "source": [
    "df['category'].value_counts()"
   ]
  },
  {
   "cell_type": "code",
   "execution_count": 9,
   "id": "e147abd9-6030-4614-aa1f-204d8f8c2552",
   "metadata": {
    "panel-layout": {
     "height": 138.8,
     "visible": true,
     "width": 100
    }
   },
   "outputs": [
    {
     "data": {
      "text/plain": [
       "category\n",
       "consumables    23538\n",
       "furniture      11915\n",
       "software        8400\n",
       "Name: count, dtype: int64"
      ]
     },
     "execution_count": 9,
     "metadata": {},
     "output_type": "execute_result"
    }
   ],
   "source": [
    "df['category'].value_counts().nlargest(3)"
   ]
  },
  {
   "cell_type": "code",
   "execution_count": 10,
   "id": "551cb358",
   "metadata": {},
   "outputs": [],
   "source": [
    "# What three item categories had the most entries?\n"
   ]
  },
  {
   "cell_type": "code",
   "execution_count": 11,
   "id": "0bf18007-0193-4b6f-949b-0b64603d3d4e",
   "metadata": {
    "panel-layout": {
     "height": 318,
     "visible": true,
     "width": 100
    }
   },
   "outputs": [
    {
     "data": {
      "text/plain": [
       "subcategory\n",
       "bathroom supplies     6424\n",
       "paper products        5874\n",
       "kitchen supplies      5746\n",
       "tables                4540\n",
       "misc                  4286\n",
       "stands                4201\n",
       "accounting            3756\n",
       "project management    3522\n",
       "plants                3466\n",
       "wall art              3093\n",
       "Name: count, dtype: int64"
      ]
     },
     "execution_count": 11,
     "metadata": {},
     "output_type": "execute_result"
    }
   ],
   "source": [
    "df[\"subcategory\"].value_counts().nlargest(10)"
   ]
  },
  {
   "cell_type": "code",
   "execution_count": 12,
   "id": "74ded598-5b86-45ea-aeaa-a5d5eaddc5e8",
   "metadata": {},
   "outputs": [
    {
     "data": {
      "text/plain": [
       "subcategory      \n",
       "bathroom supplies    6424\n",
       "Name: count, dtype: int64"
      ]
     },
     "execution_count": 12,
     "metadata": {},
     "output_type": "execute_result"
    }
   ],
   "source": [
    "most_common_subcategory = df.loc[df[\"category\"] == \"consumables\" , [\"subcategory\"]]\n",
    "most_common_subcategory.value_counts().nlargest(1)"
   ]
  },
  {
   "cell_type": "code",
   "execution_count": 13,
   "id": "5f54e2cf",
   "metadata": {},
   "outputs": [],
   "source": [
    "# For the category with the most entries, which subcategory had the most entries?\n"
   ]
  },
  {
   "cell_type": "code",
   "execution_count": 14,
   "id": "85050c82-aa2c-469f-8a11-4f7259e00634",
   "metadata": {},
   "outputs": [
    {
     "data": {
      "text/plain": [
       "client_id\n",
       "33615    220\n",
       "66037    211\n",
       "46820    209\n",
       "38378    207\n",
       "24741    207\n",
       "Name: count, dtype: int64"
      ]
     },
     "execution_count": 14,
     "metadata": {},
     "output_type": "execute_result"
    }
   ],
   "source": [
    "df['client_id'].value_counts().nlargest(5)"
   ]
  },
  {
   "cell_type": "code",
   "execution_count": 15,
   "id": "2db94379",
   "metadata": {},
   "outputs": [],
   "source": [
    "# Which five clients had the most entries in the data?\n"
   ]
  },
  {
   "cell_type": "code",
   "execution_count": 16,
   "id": "903621e2-9ed7-43dc-9b06-39e67ec99243",
   "metadata": {},
   "outputs": [
    {
     "data": {
      "text/plain": [
       "[33615, 66037, 46820, 38378, 24741]"
      ]
     },
     "execution_count": 16,
     "metadata": {},
     "output_type": "execute_result"
    }
   ],
   "source": [
    "top_5 = df['client_id'].value_counts().nlargest(5).index.tolist()\n",
    "top_5"
   ]
  },
  {
   "cell_type": "code",
   "execution_count": 17,
   "id": "a6635601",
   "metadata": {},
   "outputs": [],
   "source": [
    "# Store the client ids of those top 5 clients in a list.\n"
   ]
  },
  {
   "cell_type": "code",
   "execution_count": 18,
   "id": "dec04550-35de-4922-b515-59c9cea02d17",
   "metadata": {},
   "outputs": [
    {
     "data": {
      "text/plain": [
       "64313"
      ]
     },
     "execution_count": 18,
     "metadata": {},
     "output_type": "execute_result"
    }
   ],
   "source": [
    "df.loc[df['client_id'] == 33615, 'qty'].sum()"
   ]
  },
  {
   "cell_type": "code",
   "execution_count": 19,
   "id": "c88b8a3e",
   "metadata": {},
   "outputs": [],
   "source": [
    "# How many total units (the qty column) did the client with the most entries order order?\n"
   ]
  },
  {
   "cell_type": "markdown",
   "id": "257fcd7d",
   "metadata": {
    "panel-layout": {
     "height": 84.4,
     "visible": true,
     "width": 100
    }
   },
   "source": [
    "## Part 2: Transform the Data\n",
    "Do we know that this client spent the more money than client 66037? If not, how would we find out? Transform the data using the steps below to prepare it for analysis."
   ]
  },
  {
   "cell_type": "code",
   "execution_count": 20,
   "id": "01dce028-bff0-4015-b5a7-539e0b807abb",
   "metadata": {},
   "outputs": [
    {
     "data": {
      "text/html": [
       "<div>\n",
       "<style scoped>\n",
       "    .dataframe tbody tr th:only-of-type {\n",
       "        vertical-align: middle;\n",
       "    }\n",
       "\n",
       "    .dataframe tbody tr th {\n",
       "        vertical-align: top;\n",
       "    }\n",
       "\n",
       "    .dataframe thead th {\n",
       "        text-align: right;\n",
       "    }\n",
       "</style>\n",
       "<table border=\"1\" class=\"dataframe\">\n",
       "  <thead>\n",
       "    <tr style=\"text-align: right;\">\n",
       "      <th></th>\n",
       "      <th>unit_price</th>\n",
       "      <th>qty</th>\n",
       "      <th>line_subtotal</th>\n",
       "    </tr>\n",
       "  </thead>\n",
       "  <tbody>\n",
       "    <tr>\n",
       "      <th>0</th>\n",
       "      <td>1096.80</td>\n",
       "      <td>105</td>\n",
       "      <td>115164.00</td>\n",
       "    </tr>\n",
       "    <tr>\n",
       "      <th>1</th>\n",
       "      <td>24.95</td>\n",
       "      <td>21</td>\n",
       "      <td>523.95</td>\n",
       "    </tr>\n",
       "  </tbody>\n",
       "</table>\n",
       "</div>"
      ],
      "text/plain": [
       "   unit_price  qty  line_subtotal\n",
       "0     1096.80  105      115164.00\n",
       "1       24.95   21         523.95"
      ]
     },
     "execution_count": 20,
     "metadata": {},
     "output_type": "execute_result"
    }
   ],
   "source": [
    "df['line_subtotal'] = df['unit_price'] * df['qty']\n",
    "df[['unit_price', 'qty', 'line_subtotal']].head(2)\n"
   ]
  },
  {
   "cell_type": "code",
   "execution_count": 21,
   "id": "0c25c4a8",
   "metadata": {},
   "outputs": [],
   "source": [
    "# Create a column that calculates the subtotal for each line using the unit_price and the qty\n"
   ]
  },
  {
   "cell_type": "code",
   "execution_count": 22,
   "id": "a46c6403-e7cd-47cf-941e-f9b1a5c5821f",
   "metadata": {},
   "outputs": [
    {
     "data": {
      "text/html": [
       "<div>\n",
       "<style scoped>\n",
       "    .dataframe tbody tr th:only-of-type {\n",
       "        vertical-align: middle;\n",
       "    }\n",
       "\n",
       "    .dataframe tbody tr th {\n",
       "        vertical-align: top;\n",
       "    }\n",
       "\n",
       "    .dataframe thead th {\n",
       "        text-align: right;\n",
       "    }\n",
       "</style>\n",
       "<table border=\"1\" class=\"dataframe\">\n",
       "  <thead>\n",
       "    <tr style=\"text-align: right;\">\n",
       "      <th></th>\n",
       "      <th>unit_price</th>\n",
       "      <th>unit_weight</th>\n",
       "      <th>qty</th>\n",
       "      <th>total_weight</th>\n",
       "      <th>shipping_price</th>\n",
       "    </tr>\n",
       "  </thead>\n",
       "  <tbody>\n",
       "    <tr>\n",
       "      <th>0</th>\n",
       "      <td>1096.80</td>\n",
       "      <td>7.50</td>\n",
       "      <td>105</td>\n",
       "      <td>787.50</td>\n",
       "      <td>5512.50</td>\n",
       "    </tr>\n",
       "    <tr>\n",
       "      <th>1</th>\n",
       "      <td>24.95</td>\n",
       "      <td>1.49</td>\n",
       "      <td>21</td>\n",
       "      <td>31.29</td>\n",
       "      <td>312.90</td>\n",
       "    </tr>\n",
       "    <tr>\n",
       "      <th>2</th>\n",
       "      <td>13.52</td>\n",
       "      <td>1.68</td>\n",
       "      <td>39</td>\n",
       "      <td>65.52</td>\n",
       "      <td>458.64</td>\n",
       "    </tr>\n",
       "  </tbody>\n",
       "</table>\n",
       "</div>"
      ],
      "text/plain": [
       "   unit_price  unit_weight  qty  total_weight  shipping_price\n",
       "0     1096.80         7.50  105        787.50         5512.50\n",
       "1       24.95         1.49   21         31.29          312.90\n",
       "2       13.52         1.68   39         65.52          458.64"
      ]
     },
     "execution_count": 22,
     "metadata": {},
     "output_type": "execute_result"
    }
   ],
   "source": [
    "df['total_weight'] = df['unit_weight'] * df['qty']\n",
    "df['shipping_price'] = df.apply(lambda row: 7 * row['total_weight'] if row['total_weight'] > 50 else 10 * row['total_weight'], axis=1)\n",
    "df[['unit_price', 'unit_weight', 'qty', 'total_weight', 'shipping_price']].head(3)"
   ]
  },
  {
   "cell_type": "code",
   "execution_count": 23,
   "id": "ac9dafc8",
   "metadata": {},
   "outputs": [],
   "source": [
    "# Create a column for shipping price.\n",
    "# Assume a shipping price of $7 per pound for orders over 50 pounds and $10 per pound for items 50 pounds or under.\n",
    "\n"
   ]
  },
  {
   "cell_type": "code",
   "execution_count": 24,
   "id": "3103bae6-cf23-429f-a04d-8b49169b7e27",
   "metadata": {},
   "outputs": [
    {
     "data": {
      "text/html": [
       "<div>\n",
       "<style scoped>\n",
       "    .dataframe tbody tr th:only-of-type {\n",
       "        vertical-align: middle;\n",
       "    }\n",
       "\n",
       "    .dataframe tbody tr th {\n",
       "        vertical-align: top;\n",
       "    }\n",
       "\n",
       "    .dataframe thead th {\n",
       "        text-align: right;\n",
       "    }\n",
       "</style>\n",
       "<table border=\"1\" class=\"dataframe\">\n",
       "  <thead>\n",
       "    <tr style=\"text-align: right;\">\n",
       "      <th></th>\n",
       "      <th>line_subtotal</th>\n",
       "      <th>shipping_price</th>\n",
       "      <th>line_price</th>\n",
       "    </tr>\n",
       "  </thead>\n",
       "  <tbody>\n",
       "    <tr>\n",
       "      <th>0</th>\n",
       "      <td>115164.00</td>\n",
       "      <td>5512.50</td>\n",
       "      <td>131839.08</td>\n",
       "    </tr>\n",
       "    <tr>\n",
       "      <th>1</th>\n",
       "      <td>523.95</td>\n",
       "      <td>312.90</td>\n",
       "      <td>914.26</td>\n",
       "    </tr>\n",
       "    <tr>\n",
       "      <th>2</th>\n",
       "      <td>527.28</td>\n",
       "      <td>458.64</td>\n",
       "      <td>1077.12</td>\n",
       "    </tr>\n",
       "  </tbody>\n",
       "</table>\n",
       "</div>"
      ],
      "text/plain": [
       "   line_subtotal  shipping_price  line_price\n",
       "0      115164.00         5512.50   131839.08\n",
       "1         523.95          312.90      914.26\n",
       "2         527.28          458.64     1077.12"
      ]
     },
     "execution_count": 24,
     "metadata": {},
     "output_type": "execute_result"
    }
   ],
   "source": [
    "def cal_line_price(row):\n",
    "    cost = (row['line_subtotal']+row['shipping_price'])\n",
    "    tax = cost * .0925\n",
    "    total = round(cost+tax, 2)\n",
    "    return total\n",
    "\n",
    "    \n",
    "    \n",
    "df['line_price'] = df.apply(cal_line_price, axis=1)\n",
    "df[['line_subtotal', 'shipping_price', 'line_price']].head(3)"
   ]
  },
  {
   "cell_type": "code",
   "execution_count": 25,
   "id": "77f42c67",
   "metadata": {},
   "outputs": [],
   "source": [
    "# Create a column for the total price using the subtotal and the shipping price along with a sales tax of 9.25%\n"
   ]
  },
  {
   "cell_type": "code",
   "execution_count": 26,
   "id": "d5f5fe55-6ddb-4e19-b1e4-9e3f1c0e44c3",
   "metadata": {},
   "outputs": [
    {
     "data": {
      "text/html": [
       "<div>\n",
       "<style scoped>\n",
       "    .dataframe tbody tr th:only-of-type {\n",
       "        vertical-align: middle;\n",
       "    }\n",
       "\n",
       "    .dataframe tbody tr th {\n",
       "        vertical-align: top;\n",
       "    }\n",
       "\n",
       "    .dataframe thead th {\n",
       "        text-align: right;\n",
       "    }\n",
       "</style>\n",
       "<table border=\"1\" class=\"dataframe\">\n",
       "  <thead>\n",
       "    <tr style=\"text-align: right;\">\n",
       "      <th></th>\n",
       "      <th>first</th>\n",
       "      <th>last</th>\n",
       "      <th>job</th>\n",
       "      <th>phone</th>\n",
       "      <th>email</th>\n",
       "      <th>client_id</th>\n",
       "      <th>order_id</th>\n",
       "      <th>order_date</th>\n",
       "      <th>order_week</th>\n",
       "      <th>order_year</th>\n",
       "      <th>...</th>\n",
       "      <th>unit_price</th>\n",
       "      <th>unit_cost</th>\n",
       "      <th>unit_weight</th>\n",
       "      <th>qty</th>\n",
       "      <th>line_number</th>\n",
       "      <th>line_subtotal</th>\n",
       "      <th>total_weight</th>\n",
       "      <th>shipping_price</th>\n",
       "      <th>line_price</th>\n",
       "      <th>line_cost</th>\n",
       "    </tr>\n",
       "  </thead>\n",
       "  <tbody>\n",
       "    <tr>\n",
       "      <th>0</th>\n",
       "      <td>Donald</td>\n",
       "      <td>Harding</td>\n",
       "      <td>Immunologist</td>\n",
       "      <td>793-904-7725x39308</td>\n",
       "      <td>harding.donald.7185@sullivan.com</td>\n",
       "      <td>58515</td>\n",
       "      <td>8953482</td>\n",
       "      <td>2023-04-28</td>\n",
       "      <td>17</td>\n",
       "      <td>2023</td>\n",
       "      <td>...</td>\n",
       "      <td>1096.80</td>\n",
       "      <td>762.71</td>\n",
       "      <td>7.50</td>\n",
       "      <td>105</td>\n",
       "      <td>1</td>\n",
       "      <td>115164.00</td>\n",
       "      <td>787.50</td>\n",
       "      <td>5512.50</td>\n",
       "      <td>131839.08</td>\n",
       "      <td>85597.05</td>\n",
       "    </tr>\n",
       "    <tr>\n",
       "      <th>1</th>\n",
       "      <td>Tiffany</td>\n",
       "      <td>Myers</td>\n",
       "      <td>Music therapist</td>\n",
       "      <td>201.442.4543x942</td>\n",
       "      <td>myers.t.6537@ferguson-johnson.net</td>\n",
       "      <td>37609</td>\n",
       "      <td>8069089</td>\n",
       "      <td>2023-05-19</td>\n",
       "      <td>20</td>\n",
       "      <td>2023</td>\n",
       "      <td>...</td>\n",
       "      <td>24.95</td>\n",
       "      <td>15.09</td>\n",
       "      <td>1.49</td>\n",
       "      <td>21</td>\n",
       "      <td>0</td>\n",
       "      <td>523.95</td>\n",
       "      <td>31.29</td>\n",
       "      <td>312.90</td>\n",
       "      <td>914.26</td>\n",
       "      <td>629.79</td>\n",
       "    </tr>\n",
       "    <tr>\n",
       "      <th>2</th>\n",
       "      <td>Shannon</td>\n",
       "      <td>Watson</td>\n",
       "      <td>Immunologist</td>\n",
       "      <td>687.737.9424x8503</td>\n",
       "      <td>swatson8146@payne.net</td>\n",
       "      <td>57113</td>\n",
       "      <td>1902144</td>\n",
       "      <td>2023-01-29</td>\n",
       "      <td>4</td>\n",
       "      <td>2023</td>\n",
       "      <td>...</td>\n",
       "      <td>13.52</td>\n",
       "      <td>7.86</td>\n",
       "      <td>1.68</td>\n",
       "      <td>39</td>\n",
       "      <td>6</td>\n",
       "      <td>527.28</td>\n",
       "      <td>65.52</td>\n",
       "      <td>458.64</td>\n",
       "      <td>1077.12</td>\n",
       "      <td>765.18</td>\n",
       "    </tr>\n",
       "  </tbody>\n",
       "</table>\n",
       "<p>3 rows × 23 columns</p>\n",
       "</div>"
      ],
      "text/plain": [
       "     first     last              job               phone  \\\n",
       "0   Donald  Harding     Immunologist  793-904-7725x39308   \n",
       "1  Tiffany    Myers  Music therapist    201.442.4543x942   \n",
       "2  Shannon   Watson     Immunologist   687.737.9424x8503   \n",
       "\n",
       "                               email  client_id  order_id  order_date  \\\n",
       "0   harding.donald.7185@sullivan.com      58515   8953482  2023-04-28   \n",
       "1  myers.t.6537@ferguson-johnson.net      37609   8069089  2023-05-19   \n",
       "2              swatson8146@payne.net      57113   1902144  2023-01-29   \n",
       "\n",
       "   order_week  order_year  ... unit_price unit_cost unit_weight  qty  \\\n",
       "0          17        2023  ...    1096.80    762.71        7.50  105   \n",
       "1          20        2023  ...      24.95     15.09        1.49   21   \n",
       "2           4        2023  ...      13.52      7.86        1.68   39   \n",
       "\n",
       "   line_number  line_subtotal  total_weight  shipping_price  line_price  \\\n",
       "0            1      115164.00        787.50         5512.50   131839.08   \n",
       "1            0         523.95         31.29          312.90      914.26   \n",
       "2            6         527.28         65.52          458.64     1077.12   \n",
       "\n",
       "   line_cost  \n",
       "0   85597.05  \n",
       "1     629.79  \n",
       "2     765.18  \n",
       "\n",
       "[3 rows x 23 columns]"
      ]
     },
     "execution_count": 26,
     "metadata": {},
     "output_type": "execute_result"
    }
   ],
   "source": [
    "df['line_price'] = df.apply(cal_line_price, axis=1)\n",
    "df['line_cost'] = df['unit_cost'] * df['qty'] + df['shipping_price']\n",
    "df.head(3)"
   ]
  },
  {
   "cell_type": "code",
   "execution_count": 27,
   "id": "c82ad275",
   "metadata": {},
   "outputs": [],
   "source": [
    "# Create a column for the cost of each line using unit cost, qty, and\n",
    "# shipping price (assume the shipping cost is exactly what is charged to the client).\n",
    "\n"
   ]
  },
  {
   "cell_type": "code",
   "execution_count": 28,
   "id": "fc3ef9b0-9ee1-4657-be73-7de8ddf8b59c",
   "metadata": {},
   "outputs": [
    {
     "data": {
      "text/html": [
       "<div>\n",
       "<style scoped>\n",
       "    .dataframe tbody tr th:only-of-type {\n",
       "        vertical-align: middle;\n",
       "    }\n",
       "\n",
       "    .dataframe tbody tr th {\n",
       "        vertical-align: top;\n",
       "    }\n",
       "\n",
       "    .dataframe thead th {\n",
       "        text-align: right;\n",
       "    }\n",
       "</style>\n",
       "<table border=\"1\" class=\"dataframe\">\n",
       "  <thead>\n",
       "    <tr style=\"text-align: right;\">\n",
       "      <th></th>\n",
       "      <th>first</th>\n",
       "      <th>last</th>\n",
       "      <th>job</th>\n",
       "      <th>phone</th>\n",
       "      <th>email</th>\n",
       "      <th>client_id</th>\n",
       "      <th>order_id</th>\n",
       "      <th>order_date</th>\n",
       "      <th>order_week</th>\n",
       "      <th>order_year</th>\n",
       "      <th>...</th>\n",
       "      <th>unit_cost</th>\n",
       "      <th>unit_weight</th>\n",
       "      <th>qty</th>\n",
       "      <th>line_number</th>\n",
       "      <th>line_subtotal</th>\n",
       "      <th>total_weight</th>\n",
       "      <th>shipping_price</th>\n",
       "      <th>line_price</th>\n",
       "      <th>line_cost</th>\n",
       "      <th>line_profit</th>\n",
       "    </tr>\n",
       "  </thead>\n",
       "  <tbody>\n",
       "    <tr>\n",
       "      <th>0</th>\n",
       "      <td>Donald</td>\n",
       "      <td>Harding</td>\n",
       "      <td>Immunologist</td>\n",
       "      <td>793-904-7725x39308</td>\n",
       "      <td>harding.donald.7185@sullivan.com</td>\n",
       "      <td>58515</td>\n",
       "      <td>8953482</td>\n",
       "      <td>2023-04-28</td>\n",
       "      <td>17</td>\n",
       "      <td>2023</td>\n",
       "      <td>...</td>\n",
       "      <td>762.71</td>\n",
       "      <td>7.50</td>\n",
       "      <td>105</td>\n",
       "      <td>1</td>\n",
       "      <td>115164.00</td>\n",
       "      <td>787.50</td>\n",
       "      <td>5512.50</td>\n",
       "      <td>131839.08</td>\n",
       "      <td>85597.05</td>\n",
       "      <td>46242.03</td>\n",
       "    </tr>\n",
       "    <tr>\n",
       "      <th>1</th>\n",
       "      <td>Tiffany</td>\n",
       "      <td>Myers</td>\n",
       "      <td>Music therapist</td>\n",
       "      <td>201.442.4543x942</td>\n",
       "      <td>myers.t.6537@ferguson-johnson.net</td>\n",
       "      <td>37609</td>\n",
       "      <td>8069089</td>\n",
       "      <td>2023-05-19</td>\n",
       "      <td>20</td>\n",
       "      <td>2023</td>\n",
       "      <td>...</td>\n",
       "      <td>15.09</td>\n",
       "      <td>1.49</td>\n",
       "      <td>21</td>\n",
       "      <td>0</td>\n",
       "      <td>523.95</td>\n",
       "      <td>31.29</td>\n",
       "      <td>312.90</td>\n",
       "      <td>914.26</td>\n",
       "      <td>629.79</td>\n",
       "      <td>284.47</td>\n",
       "    </tr>\n",
       "    <tr>\n",
       "      <th>2</th>\n",
       "      <td>Shannon</td>\n",
       "      <td>Watson</td>\n",
       "      <td>Immunologist</td>\n",
       "      <td>687.737.9424x8503</td>\n",
       "      <td>swatson8146@payne.net</td>\n",
       "      <td>57113</td>\n",
       "      <td>1902144</td>\n",
       "      <td>2023-01-29</td>\n",
       "      <td>4</td>\n",
       "      <td>2023</td>\n",
       "      <td>...</td>\n",
       "      <td>7.86</td>\n",
       "      <td>1.68</td>\n",
       "      <td>39</td>\n",
       "      <td>6</td>\n",
       "      <td>527.28</td>\n",
       "      <td>65.52</td>\n",
       "      <td>458.64</td>\n",
       "      <td>1077.12</td>\n",
       "      <td>765.18</td>\n",
       "      <td>311.94</td>\n",
       "    </tr>\n",
       "  </tbody>\n",
       "</table>\n",
       "<p>3 rows × 24 columns</p>\n",
       "</div>"
      ],
      "text/plain": [
       "     first     last              job               phone  \\\n",
       "0   Donald  Harding     Immunologist  793-904-7725x39308   \n",
       "1  Tiffany    Myers  Music therapist    201.442.4543x942   \n",
       "2  Shannon   Watson     Immunologist   687.737.9424x8503   \n",
       "\n",
       "                               email  client_id  order_id  order_date  \\\n",
       "0   harding.donald.7185@sullivan.com      58515   8953482  2023-04-28   \n",
       "1  myers.t.6537@ferguson-johnson.net      37609   8069089  2023-05-19   \n",
       "2              swatson8146@payne.net      57113   1902144  2023-01-29   \n",
       "\n",
       "   order_week  order_year  ... unit_cost unit_weight  qty  line_number  \\\n",
       "0          17        2023  ...    762.71        7.50  105            1   \n",
       "1          20        2023  ...     15.09        1.49   21            0   \n",
       "2           4        2023  ...      7.86        1.68   39            6   \n",
       "\n",
       "   line_subtotal  total_weight  shipping_price  line_price  line_cost  \\\n",
       "0      115164.00        787.50         5512.50   131839.08   85597.05   \n",
       "1         523.95         31.29          312.90      914.26     629.79   \n",
       "2         527.28         65.52          458.64     1077.12     765.18   \n",
       "\n",
       "   line_profit  \n",
       "0     46242.03  \n",
       "1       284.47  \n",
       "2       311.94  \n",
       "\n",
       "[3 rows x 24 columns]"
      ]
     },
     "execution_count": 28,
     "metadata": {},
     "output_type": "execute_result"
    }
   ],
   "source": [
    "df['line_profit'] = df['line_price'] - df['line_cost']\n",
    "df.head(3)"
   ]
  },
  {
   "cell_type": "code",
   "execution_count": 29,
   "id": "e2389018",
   "metadata": {},
   "outputs": [],
   "source": [
    "# Create a column for the profit of each line using line cost and line price\n",
    "\n"
   ]
  },
  {
   "cell_type": "markdown",
   "id": "ef6f62b1",
   "metadata": {
    "panel-layout": {
     "height": 171.812,
     "visible": true,
     "width": 100
    }
   },
   "source": [
    "## Part 3: Confirm your work\n",
    "You have email receipts showing that the total prices for 3 orders. Confirm that your calculations match the receipts. Remember, each order has multiple lines.\n",
    "\n",
    "Order ID 2742071 had a total price of \\$152,811.89\n",
    "\n",
    "Order ID 2173913 had a total price of \\$162,388.71\n",
    "\n",
    "Order ID 6128929 had a total price of \\$923,441.25\n"
   ]
  },
  {
   "cell_type": "code",
   "execution_count": null,
   "id": "ebe8efe7-80ae-4544-81e1-f24a74f5df69",
   "metadata": {},
   "outputs": [],
   "source": []
  },
  {
   "cell_type": "code",
   "execution_count": 30,
   "id": "df77bc9e-1448-4217-991d-c9f3609adece",
   "metadata": {},
   "outputs": [
    {
     "name": "stdout",
     "output_type": "stream",
     "text": [
      "Order 2742071 total: $ 152811.89\n",
      "Order 2173913 total: $ 162388.71\n",
      "Order 6128929 total: $ 923441.25\n"
     ]
    }
   ],
   "source": [
    "order1 = df.loc[df['order_id'] == 2742071, 'line_price'].sum().round(2)\n",
    "order2 = df.loc[df['order_id'] == 2173913, 'line_price'].sum()\n",
    "order3 = df.loc[df['order_id'] == 6128929, 'line_price'].sum()\n",
    "\n",
    "print('Order 2742071 total: $', order1)\n",
    "print('Order 2173913 total: $', order2)\n",
    "print('Order 6128929 total: $', order3)\n"
   ]
  },
  {
   "cell_type": "code",
   "execution_count": 31,
   "id": "c0e5d68e",
   "metadata": {},
   "outputs": [],
   "source": [
    "# Check your work using the totals above\n"
   ]
  },
  {
   "cell_type": "markdown",
   "id": "b94d58ab",
   "metadata": {
    "panel-layout": {
     "height": 84.4,
     "visible": true,
     "width": 100
    }
   },
   "source": [
    "## Part 4: Summarize and Analyze\n",
    "Use the new columns with confirmed values to find the following information."
   ]
  },
  {
   "cell_type": "code",
   "execution_count": 32,
   "id": "268a24b6-5687-4720-b800-ba8b771b9669",
   "metadata": {},
   "outputs": [
    {
     "name": "stdout",
     "output_type": "stream",
     "text": [
      " 33615 : $8377308.52\n",
      " 66037 : $10259514.8\n",
      " 46820 : $9743794.33\n",
      " 38378 : $12906550.87\n",
      " 24741 : $82268892.04\n"
     ]
    }
   ],
   "source": [
    "# df['client_id'].value_counts().nlargest(5)\n",
    "# top_5\n",
    "# df.loc[df['client_id'] == 33615, 'line_price'].sum()\n",
    "\n",
    "\n",
    "for id in top_5:\n",
    "    summary = df.loc[df['client_id'] == id, 'line_price'].sum().round(2)\n",
    "    \n",
    "    print(f' {id} : ${summary}') \n",
    "    \n",
    "    \n",
    "    \n",
    "    "
   ]
  },
  {
   "cell_type": "code",
   "execution_count": 33,
   "id": "7c005f34",
   "metadata": {},
   "outputs": [],
   "source": [
    "# How much did each of the top 5 clients by quantity spend? Check your work from Part 1 for client ids.\n",
    "\n"
   ]
  },
  {
   "cell_type": "code",
   "execution_count": 34,
   "id": "24c9ccb1-c063-4fb5-b923-a52bd1663f5d",
   "metadata": {},
   "outputs": [
    {
     "data": {
      "text/html": [
       "<div>\n",
       "<style scoped>\n",
       "    .dataframe tbody tr th:only-of-type {\n",
       "        vertical-align: middle;\n",
       "    }\n",
       "\n",
       "    .dataframe tbody tr th {\n",
       "        vertical-align: top;\n",
       "    }\n",
       "\n",
       "    .dataframe thead th {\n",
       "        text-align: right;\n",
       "    }\n",
       "</style>\n",
       "<table border=\"1\" class=\"dataframe\">\n",
       "  <thead>\n",
       "    <tr style=\"text-align: right;\">\n",
       "      <th></th>\n",
       "      <th>client_id</th>\n",
       "      <th>qty</th>\n",
       "      <th>shipping_price</th>\n",
       "      <th>line_price</th>\n",
       "      <th>line_cost</th>\n",
       "      <th>line_profit</th>\n",
       "    </tr>\n",
       "  </thead>\n",
       "  <tbody>\n",
       "    <tr>\n",
       "      <th>0</th>\n",
       "      <td>33615.0</td>\n",
       "      <td>64313.0</td>\n",
       "      <td>1828984.89</td>\n",
       "      <td>8377308.52</td>\n",
       "      <td>6175313.91</td>\n",
       "      <td>2201994.61</td>\n",
       "    </tr>\n",
       "    <tr>\n",
       "      <th>1</th>\n",
       "      <td>66037.0</td>\n",
       "      <td>43018.0</td>\n",
       "      <td>1395151.85</td>\n",
       "      <td>10259514.80</td>\n",
       "      <td>7004482.98</td>\n",
       "      <td>3255031.82</td>\n",
       "    </tr>\n",
       "    <tr>\n",
       "      <th>2</th>\n",
       "      <td>46820.0</td>\n",
       "      <td>75768.0</td>\n",
       "      <td>1601448.84</td>\n",
       "      <td>9743794.33</td>\n",
       "      <td>7007191.64</td>\n",
       "      <td>2736602.69</td>\n",
       "    </tr>\n",
       "    <tr>\n",
       "      <th>3</th>\n",
       "      <td>38378.0</td>\n",
       "      <td>73667.0</td>\n",
       "      <td>3429455.40</td>\n",
       "      <td>12906550.87</td>\n",
       "      <td>9634720.98</td>\n",
       "      <td>3271829.89</td>\n",
       "    </tr>\n",
       "    <tr>\n",
       "      <th>4</th>\n",
       "      <td>24741.0</td>\n",
       "      <td>239862.0</td>\n",
       "      <td>5126448.37</td>\n",
       "      <td>82268892.04</td>\n",
       "      <td>45688899.71</td>\n",
       "      <td>36579992.33</td>\n",
       "    </tr>\n",
       "  </tbody>\n",
       "</table>\n",
       "</div>"
      ],
      "text/plain": [
       "   client_id       qty  shipping_price   line_price    line_cost  line_profit\n",
       "0    33615.0   64313.0      1828984.89   8377308.52   6175313.91   2201994.61\n",
       "1    66037.0   43018.0      1395151.85  10259514.80   7004482.98   3255031.82\n",
       "2    46820.0   75768.0      1601448.84   9743794.33   7007191.64   2736602.69\n",
       "3    38378.0   73667.0      3429455.40  12906550.87   9634720.98   3271829.89\n",
       "4    24741.0  239862.0      5126448.37  82268892.04  45688899.71  36579992.33"
      ]
     },
     "execution_count": 34,
     "metadata": {},
     "output_type": "execute_result"
    }
   ],
   "source": [
    "\n",
    "# top_5\n",
    "# col = ['qty', 'shipping_price', 'line_price', 'line_cost', 'line_profit']\n",
    "# client_df = []\n",
    "# for id in top_5:\n",
    "#     totals = df.loc[df['client_id'] == id, col].sum()\n",
    "\n",
    "#     client_df.append(totals)\n",
    "    \n",
    "#     # totals_list = totals.tolist(totals)\n",
    "\n",
    "# client_df\n",
    "\n",
    "summary_data = []\n",
    "\n",
    "for client_id in top_5:\n",
    "    totals = df.loc[df['client_id'] == client_id, ['qty', 'shipping_price', 'line_price', 'line_cost', 'line_profit']].sum()\n",
    "    totals['client_id'] = client_id\n",
    "    summary_data.append(totals)\n",
    "\n",
    "summary_df = pd.DataFrame(summary_data)\n",
    "summary_df = summary_df[['client_id', 'qty', 'shipping_price', 'line_price', 'line_cost', 'line_profit']]\n",
    "summary_df.round(2)\n",
    "# top5_df = pd.DataFrame(totals, columns = col)\n",
    "\n",
    "\n",
    "# sum_df = df[['client_id', 'qty', 'shipping_price', 'line_price', 'line_cost', 'line_profit']]\n",
    "\n",
    "\n",
    "# sum_df.head(5)\n"
   ]
  },
  {
   "cell_type": "code",
   "execution_count": 35,
   "id": "3b715e02-ec05-4202-b31c-8262daa08401",
   "metadata": {},
   "outputs": [
    {
     "data": {
      "text/plain": [
       "Index(['first', 'last', 'job', 'phone', 'email', 'client_id', 'order_id',\n",
       "       'order_date', 'order_week', 'order_year', 'item_id', 'category',\n",
       "       'subcategory', 'unit_price', 'unit_cost', 'unit_weight', 'qty',\n",
       "       'line_number', 'line_subtotal', 'total_weight', 'shipping_price',\n",
       "       'line_price', 'line_cost', 'line_profit'],\n",
       "      dtype='object')"
      ]
     },
     "execution_count": 35,
     "metadata": {},
     "output_type": "execute_result"
    }
   ],
   "source": [
    "df.columns"
   ]
  },
  {
   "cell_type": "code",
   "execution_count": 36,
   "id": "81b6e4d2",
   "metadata": {},
   "outputs": [],
   "source": [
    "# Create a summary DataFrame showing the totals for the for the top 5 clients with the following information:\n",
    "# total units purchased, total shipping price, total revenue, and total profit. \n"
   ]
  },
  {
   "cell_type": "code",
   "execution_count": 37,
   "id": "cd9d2903-a341-4ce8-bd25-37ddbab7b121",
   "metadata": {},
   "outputs": [
    {
     "data": {
      "text/html": [
       "<div>\n",
       "<style scoped>\n",
       "    .dataframe tbody tr th:only-of-type {\n",
       "        vertical-align: middle;\n",
       "    }\n",
       "\n",
       "    .dataframe tbody tr th {\n",
       "        vertical-align: top;\n",
       "    }\n",
       "\n",
       "    .dataframe thead th {\n",
       "        text-align: right;\n",
       "    }\n",
       "</style>\n",
       "<table border=\"1\" class=\"dataframe\">\n",
       "  <thead>\n",
       "    <tr style=\"text-align: right;\">\n",
       "      <th></th>\n",
       "      <th>Client ID</th>\n",
       "      <th>Units</th>\n",
       "      <th>Shipping (millions)</th>\n",
       "      <th>Total Revenue (millions)</th>\n",
       "      <th>Total Cost (millions)</th>\n",
       "      <th>Total Profit (millions)</th>\n",
       "    </tr>\n",
       "  </thead>\n",
       "  <tbody>\n",
       "    <tr>\n",
       "      <th>0</th>\n",
       "      <td>33615.0</td>\n",
       "      <td>64313.0</td>\n",
       "      <td>1.828985</td>\n",
       "      <td>8.377309</td>\n",
       "      <td>6.175314</td>\n",
       "      <td>2.201995</td>\n",
       "    </tr>\n",
       "    <tr>\n",
       "      <th>1</th>\n",
       "      <td>66037.0</td>\n",
       "      <td>43018.0</td>\n",
       "      <td>1.395152</td>\n",
       "      <td>10.259515</td>\n",
       "      <td>7.004483</td>\n",
       "      <td>3.255032</td>\n",
       "    </tr>\n",
       "    <tr>\n",
       "      <th>2</th>\n",
       "      <td>46820.0</td>\n",
       "      <td>75768.0</td>\n",
       "      <td>1.601449</td>\n",
       "      <td>9.743794</td>\n",
       "      <td>7.007192</td>\n",
       "      <td>2.736603</td>\n",
       "    </tr>\n",
       "    <tr>\n",
       "      <th>3</th>\n",
       "      <td>38378.0</td>\n",
       "      <td>73667.0</td>\n",
       "      <td>3.429455</td>\n",
       "      <td>12.906551</td>\n",
       "      <td>9.634721</td>\n",
       "      <td>3.271830</td>\n",
       "    </tr>\n",
       "    <tr>\n",
       "      <th>4</th>\n",
       "      <td>24741.0</td>\n",
       "      <td>239862.0</td>\n",
       "      <td>5.126448</td>\n",
       "      <td>82.268892</td>\n",
       "      <td>45.688900</td>\n",
       "      <td>36.579992</td>\n",
       "    </tr>\n",
       "  </tbody>\n",
       "</table>\n",
       "</div>"
      ],
      "text/plain": [
       "   Client ID     Units  Shipping (millions)  Total Revenue (millions)  \\\n",
       "0    33615.0   64313.0             1.828985                  8.377309   \n",
       "1    66037.0   43018.0             1.395152                 10.259515   \n",
       "2    46820.0   75768.0             1.601449                  9.743794   \n",
       "3    38378.0   73667.0             3.429455                 12.906551   \n",
       "4    24741.0  239862.0             5.126448                 82.268892   \n",
       "\n",
       "   Total Cost (millions)  Total Profit (millions)  \n",
       "0               6.175314                 2.201995  \n",
       "1               7.004483                 3.255032  \n",
       "2               7.007192                 2.736603  \n",
       "3               9.634721                 3.271830  \n",
       "4              45.688900                36.579992  "
      ]
     },
     "execution_count": 37,
     "metadata": {},
     "output_type": "execute_result"
    }
   ],
   "source": [
    "renamed_df = summary_df.rename(columns = {'client_id': 'Client ID' , 'qty': 'Units', 'shipping_price': 'Shipping (millions)',\\\n",
    "                             'line_price': 'Total Revenue (millions)', 'line_cost': 'Total Cost (millions)',\\\n",
    "                             'line_profit': 'Total Profit (millions)'})\n",
    "\n",
    "def scale_to_millions(row):\n",
    "    return row / 1000000\n",
    "\n",
    "\n",
    "\n",
    "money_columns = ['Shipping (millions)', 'Total Revenue (millions)', 'Total Cost (millions)', 'Total Profit (millions)']\n",
    "renamed_df[money_columns] = renamed_df[money_columns].apply(scale_to_millions, axis=1)\n",
    "renamed_df"
   ]
  },
  {
   "cell_type": "code",
   "execution_count": 38,
   "id": "7be02867",
   "metadata": {},
   "outputs": [],
   "source": [
    "# Format the data and rename the columns to names suitable for presentation.\n",
    "\n",
    "# Define the money columns. \n",
    "\n",
    "\n",
    "# # Define a function that converts a dollar amount to millions.\n",
    "\n",
    "\n",
    "# # Apply the currency_format_millions function to only the money columns. \n",
    "\n",
    "\n",
    "# Rename the columns to reflect the change in the money format. \n",
    "\n",
    "\n"
   ]
  },
  {
   "cell_type": "code",
   "execution_count": 43,
   "id": "5ace069a-3367-406c-aa9f-910ab2e16968",
   "metadata": {},
   "outputs": [
    {
     "data": {
      "text/html": [
       "<div>\n",
       "<style scoped>\n",
       "    .dataframe tbody tr th:only-of-type {\n",
       "        vertical-align: middle;\n",
       "    }\n",
       "\n",
       "    .dataframe tbody tr th {\n",
       "        vertical-align: top;\n",
       "    }\n",
       "\n",
       "    .dataframe thead th {\n",
       "        text-align: right;\n",
       "    }\n",
       "</style>\n",
       "<table border=\"1\" class=\"dataframe\">\n",
       "  <thead>\n",
       "    <tr style=\"text-align: right;\">\n",
       "      <th></th>\n",
       "      <th>Client ID</th>\n",
       "      <th>Units</th>\n",
       "      <th>Shipping (millions)</th>\n",
       "      <th>Total Revenue (millions)</th>\n",
       "      <th>Total Cost (millions)</th>\n",
       "      <th>Total Profit (millions)</th>\n",
       "    </tr>\n",
       "  </thead>\n",
       "  <tbody>\n",
       "    <tr>\n",
       "      <th>4</th>\n",
       "      <td>24741.0</td>\n",
       "      <td>239862.0</td>\n",
       "      <td>5.126448</td>\n",
       "      <td>82.268892</td>\n",
       "      <td>45.688900</td>\n",
       "      <td>36.579992</td>\n",
       "    </tr>\n",
       "    <tr>\n",
       "      <th>3</th>\n",
       "      <td>38378.0</td>\n",
       "      <td>73667.0</td>\n",
       "      <td>3.429455</td>\n",
       "      <td>12.906551</td>\n",
       "      <td>9.634721</td>\n",
       "      <td>3.271830</td>\n",
       "    </tr>\n",
       "    <tr>\n",
       "      <th>1</th>\n",
       "      <td>66037.0</td>\n",
       "      <td>43018.0</td>\n",
       "      <td>1.395152</td>\n",
       "      <td>10.259515</td>\n",
       "      <td>7.004483</td>\n",
       "      <td>3.255032</td>\n",
       "    </tr>\n",
       "    <tr>\n",
       "      <th>2</th>\n",
       "      <td>46820.0</td>\n",
       "      <td>75768.0</td>\n",
       "      <td>1.601449</td>\n",
       "      <td>9.743794</td>\n",
       "      <td>7.007192</td>\n",
       "      <td>2.736603</td>\n",
       "    </tr>\n",
       "    <tr>\n",
       "      <th>0</th>\n",
       "      <td>33615.0</td>\n",
       "      <td>64313.0</td>\n",
       "      <td>1.828985</td>\n",
       "      <td>8.377309</td>\n",
       "      <td>6.175314</td>\n",
       "      <td>2.201995</td>\n",
       "    </tr>\n",
       "  </tbody>\n",
       "</table>\n",
       "</div>"
      ],
      "text/plain": [
       "   Client ID     Units  Shipping (millions)  Total Revenue (millions)  \\\n",
       "4    24741.0  239862.0             5.126448                 82.268892   \n",
       "3    38378.0   73667.0             3.429455                 12.906551   \n",
       "1    66037.0   43018.0             1.395152                 10.259515   \n",
       "2    46820.0   75768.0             1.601449                  9.743794   \n",
       "0    33615.0   64313.0             1.828985                  8.377309   \n",
       "\n",
       "   Total Cost (millions)  Total Profit (millions)  \n",
       "4              45.688900                36.579992  \n",
       "3               9.634721                 3.271830  \n",
       "1               7.004483                 3.255032  \n",
       "2               7.007192                 2.736603  \n",
       "0               6.175314                 2.201995  "
      ]
     },
     "execution_count": 43,
     "metadata": {},
     "output_type": "execute_result"
    }
   ],
   "source": [
    "sorted_df = renamed_df.sort_values('Total Profit (millions)', ascending = False)\n",
    "sorted_df"
   ]
  },
  {
   "cell_type": "code",
   "execution_count": 40,
   "id": "8ead0986",
   "metadata": {},
   "outputs": [],
   "source": [
    "# Sort the updated data by \"Total Profit (millions)\" form highest to lowest and assign the sort to a new DatFrame.\n"
   ]
  },
  {
   "cell_type": "code",
   "execution_count": 41,
   "id": "87e0e7f8-b60e-4e50-ab07-c36b6deed513",
   "metadata": {},
   "outputs": [],
   "source": [
    "#The total profit is much higher on client id 24741 due to the large amount of units. Tax on large amounts of units sold is what raises a large amount of revenue or the total cost/profit by a large amount."
   ]
  }
 ],
 "metadata": {
  "kernelspec": {
   "display_name": "Python 3 (ipykernel)",
   "language": "python",
   "name": "python3"
  },
  "language_info": {
   "codemirror_mode": {
    "name": "ipython",
    "version": 3
   },
   "file_extension": ".py",
   "mimetype": "text/x-python",
   "name": "python",
   "nbconvert_exporter": "python",
   "pygments_lexer": "ipython3",
   "version": "3.10.14"
  },
  "panel-cell-order": [
   "dc0318d6",
   "e076f57f",
   "578f0f9b-40b0-423e-b755-0093c25e0801",
   "3ec6d54d-6f97-447f-b4d1-4147de013efb",
   "68cabac7-a0be-48cf-84d4-e7fe37cf2381",
   "c3949a05-cdfe-4f59-8f48-c5b695e63e60",
   "e147abd9-6030-4614-aa1f-204d8f8c2552",
   "0bf18007-0193-4b6f-949b-0b64603d3d4e",
   "257fcd7d",
   "ef6f62b1",
   "b94d58ab"
  ]
 },
 "nbformat": 4,
 "nbformat_minor": 5
}
